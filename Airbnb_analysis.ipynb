{
 "cells": [
  {
   "cell_type": "code",
   "execution_count": 2,
   "metadata": {},
   "outputs": [],
   "source": [
    "import pandas as pd"
   ]
  },
  {
   "cell_type": "code",
   "execution_count": 3,
   "metadata": {},
   "outputs": [
    {
     "data": {
      "text/html": [
       "<div>\n",
       "<style scoped>\n",
       "    .dataframe tbody tr th:only-of-type {\n",
       "        vertical-align: middle;\n",
       "    }\n",
       "\n",
       "    .dataframe tbody tr th {\n",
       "        vertical-align: top;\n",
       "    }\n",
       "\n",
       "    .dataframe thead th {\n",
       "        text-align: right;\n",
       "    }\n",
       "</style>\n",
       "<table border=\"1\" class=\"dataframe\">\n",
       "  <thead>\n",
       "    <tr style=\"text-align: right;\">\n",
       "      <th></th>\n",
       "      <th>country_destination</th>\n",
       "      <th>lat_destination</th>\n",
       "      <th>lng_destination</th>\n",
       "      <th>distance_km</th>\n",
       "      <th>destination_km2</th>\n",
       "      <th>destination_language</th>\n",
       "      <th>language_levenshtein_distance</th>\n",
       "    </tr>\n",
       "  </thead>\n",
       "  <tbody>\n",
       "    <tr>\n",
       "      <td>0</td>\n",
       "      <td>AU</td>\n",
       "      <td>-26.853388</td>\n",
       "      <td>133.275160</td>\n",
       "      <td>15297.7440</td>\n",
       "      <td>7741220.0</td>\n",
       "      <td>eng</td>\n",
       "      <td>0.00</td>\n",
       "    </tr>\n",
       "    <tr>\n",
       "      <td>1</td>\n",
       "      <td>CA</td>\n",
       "      <td>62.393303</td>\n",
       "      <td>-96.818146</td>\n",
       "      <td>2828.1333</td>\n",
       "      <td>9984670.0</td>\n",
       "      <td>eng</td>\n",
       "      <td>0.00</td>\n",
       "    </tr>\n",
       "    <tr>\n",
       "      <td>2</td>\n",
       "      <td>DE</td>\n",
       "      <td>51.165707</td>\n",
       "      <td>10.452764</td>\n",
       "      <td>7879.5680</td>\n",
       "      <td>357022.0</td>\n",
       "      <td>deu</td>\n",
       "      <td>72.61</td>\n",
       "    </tr>\n",
       "    <tr>\n",
       "      <td>3</td>\n",
       "      <td>ES</td>\n",
       "      <td>39.896027</td>\n",
       "      <td>-2.487694</td>\n",
       "      <td>7730.7240</td>\n",
       "      <td>505370.0</td>\n",
       "      <td>spa</td>\n",
       "      <td>92.25</td>\n",
       "    </tr>\n",
       "    <tr>\n",
       "      <td>4</td>\n",
       "      <td>FR</td>\n",
       "      <td>46.232193</td>\n",
       "      <td>2.209667</td>\n",
       "      <td>7682.9450</td>\n",
       "      <td>643801.0</td>\n",
       "      <td>fra</td>\n",
       "      <td>92.06</td>\n",
       "    </tr>\n",
       "  </tbody>\n",
       "</table>\n",
       "</div>"
      ],
      "text/plain": [
       "  country_destination  lat_destination  lng_destination  distance_km  \\\n",
       "0                  AU       -26.853388       133.275160   15297.7440   \n",
       "1                  CA        62.393303       -96.818146    2828.1333   \n",
       "2                  DE        51.165707        10.452764    7879.5680   \n",
       "3                  ES        39.896027        -2.487694    7730.7240   \n",
       "4                  FR        46.232193         2.209667    7682.9450   \n",
       "\n",
       "   destination_km2 destination_language   language_levenshtein_distance  \n",
       "0        7741220.0                   eng                           0.00  \n",
       "1        9984670.0                   eng                           0.00  \n",
       "2         357022.0                   deu                          72.61  \n",
       "3         505370.0                   spa                          92.25  \n",
       "4         643801.0                   fra                          92.06  "
      ]
     },
     "execution_count": 3,
     "metadata": {},
     "output_type": "execute_result"
    }
   ],
   "source": [
    "countries = pd.read_csv(\"countries.csv\")\n",
    "countries.head()"
   ]
  },
  {
   "cell_type": "code",
   "execution_count": 4,
   "metadata": {},
   "outputs": [
    {
     "data": {
      "text/html": [
       "<div>\n",
       "<style scoped>\n",
       "    .dataframe tbody tr th:only-of-type {\n",
       "        vertical-align: middle;\n",
       "    }\n",
       "\n",
       "    .dataframe tbody tr th {\n",
       "        vertical-align: top;\n",
       "    }\n",
       "\n",
       "    .dataframe thead th {\n",
       "        text-align: right;\n",
       "    }\n",
       "</style>\n",
       "<table border=\"1\" class=\"dataframe\">\n",
       "  <thead>\n",
       "    <tr style=\"text-align: right;\">\n",
       "      <th></th>\n",
       "      <th>id</th>\n",
       "      <th>country</th>\n",
       "    </tr>\n",
       "  </thead>\n",
       "  <tbody>\n",
       "    <tr>\n",
       "      <td>0</td>\n",
       "      <td>5uwns89zht</td>\n",
       "      <td>NDF</td>\n",
       "    </tr>\n",
       "    <tr>\n",
       "      <td>1</td>\n",
       "      <td>jtl0dijy2j</td>\n",
       "      <td>NDF</td>\n",
       "    </tr>\n",
       "    <tr>\n",
       "      <td>2</td>\n",
       "      <td>xx0ulgorjt</td>\n",
       "      <td>NDF</td>\n",
       "    </tr>\n",
       "    <tr>\n",
       "      <td>3</td>\n",
       "      <td>6c6puo6ix0</td>\n",
       "      <td>NDF</td>\n",
       "    </tr>\n",
       "    <tr>\n",
       "      <td>4</td>\n",
       "      <td>czqhjk3yfe</td>\n",
       "      <td>NDF</td>\n",
       "    </tr>\n",
       "  </tbody>\n",
       "</table>\n",
       "</div>"
      ],
      "text/plain": [
       "           id country\n",
       "0  5uwns89zht     NDF\n",
       "1  jtl0dijy2j     NDF\n",
       "2  xx0ulgorjt     NDF\n",
       "3  6c6puo6ix0     NDF\n",
       "4  czqhjk3yfe     NDF"
      ]
     },
     "execution_count": 4,
     "metadata": {},
     "output_type": "execute_result"
    }
   ],
   "source": [
    "submission = pd.read_csv(\"sample_submission_NDF.csv\")\n",
    "submission.head()"
   ]
  },
  {
   "cell_type": "code",
   "execution_count": 5,
   "metadata": {},
   "outputs": [
    {
     "data": {
      "text/html": [
       "<div>\n",
       "<style scoped>\n",
       "    .dataframe tbody tr th:only-of-type {\n",
       "        vertical-align: middle;\n",
       "    }\n",
       "\n",
       "    .dataframe tbody tr th {\n",
       "        vertical-align: top;\n",
       "    }\n",
       "\n",
       "    .dataframe thead th {\n",
       "        text-align: right;\n",
       "    }\n",
       "</style>\n",
       "<table border=\"1\" class=\"dataframe\">\n",
       "  <thead>\n",
       "    <tr style=\"text-align: right;\">\n",
       "      <th></th>\n",
       "      <th>user_id</th>\n",
       "      <th>action</th>\n",
       "      <th>action_type</th>\n",
       "      <th>action_detail</th>\n",
       "      <th>device_type</th>\n",
       "      <th>secs_elapsed</th>\n",
       "    </tr>\n",
       "  </thead>\n",
       "  <tbody>\n",
       "    <tr>\n",
       "      <td>0</td>\n",
       "      <td>d1mm9tcy42</td>\n",
       "      <td>lookup</td>\n",
       "      <td>NaN</td>\n",
       "      <td>NaN</td>\n",
       "      <td>Windows Desktop</td>\n",
       "      <td>319.0</td>\n",
       "    </tr>\n",
       "    <tr>\n",
       "      <td>1</td>\n",
       "      <td>d1mm9tcy42</td>\n",
       "      <td>search_results</td>\n",
       "      <td>click</td>\n",
       "      <td>view_search_results</td>\n",
       "      <td>Windows Desktop</td>\n",
       "      <td>67753.0</td>\n",
       "    </tr>\n",
       "    <tr>\n",
       "      <td>2</td>\n",
       "      <td>d1mm9tcy42</td>\n",
       "      <td>lookup</td>\n",
       "      <td>NaN</td>\n",
       "      <td>NaN</td>\n",
       "      <td>Windows Desktop</td>\n",
       "      <td>301.0</td>\n",
       "    </tr>\n",
       "    <tr>\n",
       "      <td>3</td>\n",
       "      <td>d1mm9tcy42</td>\n",
       "      <td>search_results</td>\n",
       "      <td>click</td>\n",
       "      <td>view_search_results</td>\n",
       "      <td>Windows Desktop</td>\n",
       "      <td>22141.0</td>\n",
       "    </tr>\n",
       "    <tr>\n",
       "      <td>4</td>\n",
       "      <td>d1mm9tcy42</td>\n",
       "      <td>lookup</td>\n",
       "      <td>NaN</td>\n",
       "      <td>NaN</td>\n",
       "      <td>Windows Desktop</td>\n",
       "      <td>435.0</td>\n",
       "    </tr>\n",
       "  </tbody>\n",
       "</table>\n",
       "</div>"
      ],
      "text/plain": [
       "      user_id          action action_type        action_detail  \\\n",
       "0  d1mm9tcy42          lookup         NaN                  NaN   \n",
       "1  d1mm9tcy42  search_results       click  view_search_results   \n",
       "2  d1mm9tcy42          lookup         NaN                  NaN   \n",
       "3  d1mm9tcy42  search_results       click  view_search_results   \n",
       "4  d1mm9tcy42          lookup         NaN                  NaN   \n",
       "\n",
       "       device_type  secs_elapsed  \n",
       "0  Windows Desktop         319.0  \n",
       "1  Windows Desktop       67753.0  \n",
       "2  Windows Desktop         301.0  \n",
       "3  Windows Desktop       22141.0  \n",
       "4  Windows Desktop         435.0  "
      ]
     },
     "execution_count": 5,
     "metadata": {},
     "output_type": "execute_result"
    }
   ],
   "source": [
    "sessions = pd.read_csv(\"sessions.csv\")\n",
    "sessions.head()"
   ]
  },
  {
   "cell_type": "code",
   "execution_count": 6,
   "metadata": {},
   "outputs": [
    {
     "data": {
      "text/html": [
       "<div>\n",
       "<style scoped>\n",
       "    .dataframe tbody tr th:only-of-type {\n",
       "        vertical-align: middle;\n",
       "    }\n",
       "\n",
       "    .dataframe tbody tr th {\n",
       "        vertical-align: top;\n",
       "    }\n",
       "\n",
       "    .dataframe thead th {\n",
       "        text-align: right;\n",
       "    }\n",
       "</style>\n",
       "<table border=\"1\" class=\"dataframe\">\n",
       "  <thead>\n",
       "    <tr style=\"text-align: right;\">\n",
       "      <th></th>\n",
       "      <th>id</th>\n",
       "      <th>date_account_created</th>\n",
       "      <th>timestamp_first_active</th>\n",
       "      <th>date_first_booking</th>\n",
       "      <th>gender</th>\n",
       "      <th>age</th>\n",
       "      <th>signup_method</th>\n",
       "      <th>signup_flow</th>\n",
       "      <th>language</th>\n",
       "      <th>affiliate_channel</th>\n",
       "      <th>affiliate_provider</th>\n",
       "      <th>first_affiliate_tracked</th>\n",
       "      <th>signup_app</th>\n",
       "      <th>first_device_type</th>\n",
       "      <th>first_browser</th>\n",
       "    </tr>\n",
       "  </thead>\n",
       "  <tbody>\n",
       "    <tr>\n",
       "      <td>0</td>\n",
       "      <td>5uwns89zht</td>\n",
       "      <td>2014-07-01</td>\n",
       "      <td>20140701000006</td>\n",
       "      <td>NaN</td>\n",
       "      <td>FEMALE</td>\n",
       "      <td>35.0</td>\n",
       "      <td>facebook</td>\n",
       "      <td>0</td>\n",
       "      <td>en</td>\n",
       "      <td>direct</td>\n",
       "      <td>direct</td>\n",
       "      <td>untracked</td>\n",
       "      <td>Moweb</td>\n",
       "      <td>iPhone</td>\n",
       "      <td>Mobile Safari</td>\n",
       "    </tr>\n",
       "    <tr>\n",
       "      <td>1</td>\n",
       "      <td>jtl0dijy2j</td>\n",
       "      <td>2014-07-01</td>\n",
       "      <td>20140701000051</td>\n",
       "      <td>NaN</td>\n",
       "      <td>-unknown-</td>\n",
       "      <td>NaN</td>\n",
       "      <td>basic</td>\n",
       "      <td>0</td>\n",
       "      <td>en</td>\n",
       "      <td>direct</td>\n",
       "      <td>direct</td>\n",
       "      <td>untracked</td>\n",
       "      <td>Moweb</td>\n",
       "      <td>iPhone</td>\n",
       "      <td>Mobile Safari</td>\n",
       "    </tr>\n",
       "    <tr>\n",
       "      <td>2</td>\n",
       "      <td>xx0ulgorjt</td>\n",
       "      <td>2014-07-01</td>\n",
       "      <td>20140701000148</td>\n",
       "      <td>NaN</td>\n",
       "      <td>-unknown-</td>\n",
       "      <td>NaN</td>\n",
       "      <td>basic</td>\n",
       "      <td>0</td>\n",
       "      <td>en</td>\n",
       "      <td>direct</td>\n",
       "      <td>direct</td>\n",
       "      <td>linked</td>\n",
       "      <td>Web</td>\n",
       "      <td>Windows Desktop</td>\n",
       "      <td>Chrome</td>\n",
       "    </tr>\n",
       "    <tr>\n",
       "      <td>3</td>\n",
       "      <td>6c6puo6ix0</td>\n",
       "      <td>2014-07-01</td>\n",
       "      <td>20140701000215</td>\n",
       "      <td>NaN</td>\n",
       "      <td>-unknown-</td>\n",
       "      <td>NaN</td>\n",
       "      <td>basic</td>\n",
       "      <td>0</td>\n",
       "      <td>en</td>\n",
       "      <td>direct</td>\n",
       "      <td>direct</td>\n",
       "      <td>linked</td>\n",
       "      <td>Web</td>\n",
       "      <td>Windows Desktop</td>\n",
       "      <td>IE</td>\n",
       "    </tr>\n",
       "    <tr>\n",
       "      <td>4</td>\n",
       "      <td>czqhjk3yfe</td>\n",
       "      <td>2014-07-01</td>\n",
       "      <td>20140701000305</td>\n",
       "      <td>NaN</td>\n",
       "      <td>-unknown-</td>\n",
       "      <td>NaN</td>\n",
       "      <td>basic</td>\n",
       "      <td>0</td>\n",
       "      <td>en</td>\n",
       "      <td>direct</td>\n",
       "      <td>direct</td>\n",
       "      <td>untracked</td>\n",
       "      <td>Web</td>\n",
       "      <td>Mac Desktop</td>\n",
       "      <td>Safari</td>\n",
       "    </tr>\n",
       "  </tbody>\n",
       "</table>\n",
       "</div>"
      ],
      "text/plain": [
       "           id date_account_created  timestamp_first_active  \\\n",
       "0  5uwns89zht           2014-07-01          20140701000006   \n",
       "1  jtl0dijy2j           2014-07-01          20140701000051   \n",
       "2  xx0ulgorjt           2014-07-01          20140701000148   \n",
       "3  6c6puo6ix0           2014-07-01          20140701000215   \n",
       "4  czqhjk3yfe           2014-07-01          20140701000305   \n",
       "\n",
       "   date_first_booking     gender   age signup_method  signup_flow language  \\\n",
       "0                 NaN     FEMALE  35.0      facebook            0       en   \n",
       "1                 NaN  -unknown-   NaN         basic            0       en   \n",
       "2                 NaN  -unknown-   NaN         basic            0       en   \n",
       "3                 NaN  -unknown-   NaN         basic            0       en   \n",
       "4                 NaN  -unknown-   NaN         basic            0       en   \n",
       "\n",
       "  affiliate_channel affiliate_provider first_affiliate_tracked signup_app  \\\n",
       "0            direct             direct               untracked      Moweb   \n",
       "1            direct             direct               untracked      Moweb   \n",
       "2            direct             direct                  linked        Web   \n",
       "3            direct             direct                  linked        Web   \n",
       "4            direct             direct               untracked        Web   \n",
       "\n",
       "  first_device_type  first_browser  \n",
       "0            iPhone  Mobile Safari  \n",
       "1            iPhone  Mobile Safari  \n",
       "2   Windows Desktop         Chrome  \n",
       "3   Windows Desktop             IE  \n",
       "4       Mac Desktop         Safari  "
      ]
     },
     "execution_count": 6,
     "metadata": {},
     "output_type": "execute_result"
    }
   ],
   "source": [
    "test_users = pd.read_csv(\"test_users.csv\")\n",
    "test_users.head()"
   ]
  },
  {
   "cell_type": "code",
   "execution_count": 7,
   "metadata": {},
   "outputs": [
    {
     "data": {
      "text/html": [
       "<div>\n",
       "<style scoped>\n",
       "    .dataframe tbody tr th:only-of-type {\n",
       "        vertical-align: middle;\n",
       "    }\n",
       "\n",
       "    .dataframe tbody tr th {\n",
       "        vertical-align: top;\n",
       "    }\n",
       "\n",
       "    .dataframe thead th {\n",
       "        text-align: right;\n",
       "    }\n",
       "</style>\n",
       "<table border=\"1\" class=\"dataframe\">\n",
       "  <thead>\n",
       "    <tr style=\"text-align: right;\">\n",
       "      <th></th>\n",
       "      <th>id</th>\n",
       "      <th>date_account_created</th>\n",
       "      <th>timestamp_first_active</th>\n",
       "      <th>date_first_booking</th>\n",
       "      <th>gender</th>\n",
       "      <th>age</th>\n",
       "      <th>signup_method</th>\n",
       "      <th>signup_flow</th>\n",
       "      <th>language</th>\n",
       "      <th>affiliate_channel</th>\n",
       "      <th>affiliate_provider</th>\n",
       "      <th>first_affiliate_tracked</th>\n",
       "      <th>signup_app</th>\n",
       "      <th>first_device_type</th>\n",
       "      <th>first_browser</th>\n",
       "      <th>country_destination</th>\n",
       "    </tr>\n",
       "  </thead>\n",
       "  <tbody>\n",
       "    <tr>\n",
       "      <td>0</td>\n",
       "      <td>gxn3p5htnn</td>\n",
       "      <td>2010-06-28</td>\n",
       "      <td>20090319043255</td>\n",
       "      <td>NaN</td>\n",
       "      <td>-unknown-</td>\n",
       "      <td>NaN</td>\n",
       "      <td>facebook</td>\n",
       "      <td>0</td>\n",
       "      <td>en</td>\n",
       "      <td>direct</td>\n",
       "      <td>direct</td>\n",
       "      <td>untracked</td>\n",
       "      <td>Web</td>\n",
       "      <td>Mac Desktop</td>\n",
       "      <td>Chrome</td>\n",
       "      <td>NDF</td>\n",
       "    </tr>\n",
       "    <tr>\n",
       "      <td>1</td>\n",
       "      <td>820tgsjxq7</td>\n",
       "      <td>2011-05-25</td>\n",
       "      <td>20090523174809</td>\n",
       "      <td>NaN</td>\n",
       "      <td>MALE</td>\n",
       "      <td>38.0</td>\n",
       "      <td>facebook</td>\n",
       "      <td>0</td>\n",
       "      <td>en</td>\n",
       "      <td>seo</td>\n",
       "      <td>google</td>\n",
       "      <td>untracked</td>\n",
       "      <td>Web</td>\n",
       "      <td>Mac Desktop</td>\n",
       "      <td>Chrome</td>\n",
       "      <td>NDF</td>\n",
       "    </tr>\n",
       "    <tr>\n",
       "      <td>2</td>\n",
       "      <td>4ft3gnwmtx</td>\n",
       "      <td>2010-09-28</td>\n",
       "      <td>20090609231247</td>\n",
       "      <td>2010-08-02</td>\n",
       "      <td>FEMALE</td>\n",
       "      <td>56.0</td>\n",
       "      <td>basic</td>\n",
       "      <td>3</td>\n",
       "      <td>en</td>\n",
       "      <td>direct</td>\n",
       "      <td>direct</td>\n",
       "      <td>untracked</td>\n",
       "      <td>Web</td>\n",
       "      <td>Windows Desktop</td>\n",
       "      <td>IE</td>\n",
       "      <td>US</td>\n",
       "    </tr>\n",
       "    <tr>\n",
       "      <td>3</td>\n",
       "      <td>bjjt8pjhuk</td>\n",
       "      <td>2011-12-05</td>\n",
       "      <td>20091031060129</td>\n",
       "      <td>2012-09-08</td>\n",
       "      <td>FEMALE</td>\n",
       "      <td>42.0</td>\n",
       "      <td>facebook</td>\n",
       "      <td>0</td>\n",
       "      <td>en</td>\n",
       "      <td>direct</td>\n",
       "      <td>direct</td>\n",
       "      <td>untracked</td>\n",
       "      <td>Web</td>\n",
       "      <td>Mac Desktop</td>\n",
       "      <td>Firefox</td>\n",
       "      <td>other</td>\n",
       "    </tr>\n",
       "    <tr>\n",
       "      <td>4</td>\n",
       "      <td>87mebub9p4</td>\n",
       "      <td>2010-09-14</td>\n",
       "      <td>20091208061105</td>\n",
       "      <td>2010-02-18</td>\n",
       "      <td>-unknown-</td>\n",
       "      <td>41.0</td>\n",
       "      <td>basic</td>\n",
       "      <td>0</td>\n",
       "      <td>en</td>\n",
       "      <td>direct</td>\n",
       "      <td>direct</td>\n",
       "      <td>untracked</td>\n",
       "      <td>Web</td>\n",
       "      <td>Mac Desktop</td>\n",
       "      <td>Chrome</td>\n",
       "      <td>US</td>\n",
       "    </tr>\n",
       "  </tbody>\n",
       "</table>\n",
       "</div>"
      ],
      "text/plain": [
       "           id date_account_created  timestamp_first_active date_first_booking  \\\n",
       "0  gxn3p5htnn           2010-06-28          20090319043255                NaN   \n",
       "1  820tgsjxq7           2011-05-25          20090523174809                NaN   \n",
       "2  4ft3gnwmtx           2010-09-28          20090609231247         2010-08-02   \n",
       "3  bjjt8pjhuk           2011-12-05          20091031060129         2012-09-08   \n",
       "4  87mebub9p4           2010-09-14          20091208061105         2010-02-18   \n",
       "\n",
       "      gender   age signup_method  signup_flow language affiliate_channel  \\\n",
       "0  -unknown-   NaN      facebook            0       en            direct   \n",
       "1       MALE  38.0      facebook            0       en               seo   \n",
       "2     FEMALE  56.0         basic            3       en            direct   \n",
       "3     FEMALE  42.0      facebook            0       en            direct   \n",
       "4  -unknown-  41.0         basic            0       en            direct   \n",
       "\n",
       "  affiliate_provider first_affiliate_tracked signup_app first_device_type  \\\n",
       "0             direct               untracked        Web       Mac Desktop   \n",
       "1             google               untracked        Web       Mac Desktop   \n",
       "2             direct               untracked        Web   Windows Desktop   \n",
       "3             direct               untracked        Web       Mac Desktop   \n",
       "4             direct               untracked        Web       Mac Desktop   \n",
       "\n",
       "  first_browser country_destination  \n",
       "0        Chrome                 NDF  \n",
       "1        Chrome                 NDF  \n",
       "2            IE                  US  \n",
       "3       Firefox               other  \n",
       "4        Chrome                  US  "
      ]
     },
     "execution_count": 7,
     "metadata": {},
     "output_type": "execute_result"
    }
   ],
   "source": [
    "train_users_ = pd.read_csv(\"train_users_2.csv\")\n",
    "train_users =train_users_.drop([\"country_destination\"],axis =1)\n",
    "train_users_.head()"
   ]
  },
  {
   "cell_type": "code",
   "execution_count": 8,
   "metadata": {
    "scrolled": true
   },
   "outputs": [
    {
     "data": {
      "text/html": [
       "<div>\n",
       "<style scoped>\n",
       "    .dataframe tbody tr th:only-of-type {\n",
       "        vertical-align: middle;\n",
       "    }\n",
       "\n",
       "    .dataframe tbody tr th {\n",
       "        vertical-align: top;\n",
       "    }\n",
       "\n",
       "    .dataframe thead th {\n",
       "        text-align: right;\n",
       "    }\n",
       "</style>\n",
       "<table border=\"1\" class=\"dataframe\">\n",
       "  <thead>\n",
       "    <tr style=\"text-align: right;\">\n",
       "      <th></th>\n",
       "      <th>id</th>\n",
       "      <th>date_account_created</th>\n",
       "      <th>timestamp_first_active</th>\n",
       "      <th>date_first_booking</th>\n",
       "      <th>gender</th>\n",
       "      <th>age</th>\n",
       "      <th>signup_method</th>\n",
       "      <th>signup_flow</th>\n",
       "      <th>language</th>\n",
       "      <th>affiliate_channel</th>\n",
       "      <th>affiliate_provider</th>\n",
       "      <th>first_affiliate_tracked</th>\n",
       "      <th>signup_app</th>\n",
       "      <th>first_device_type</th>\n",
       "      <th>first_browser</th>\n",
       "    </tr>\n",
       "  </thead>\n",
       "  <tbody>\n",
       "    <tr>\n",
       "      <td>0</td>\n",
       "      <td>gxn3p5htnn</td>\n",
       "      <td>2010-06-28</td>\n",
       "      <td>20090319043255</td>\n",
       "      <td>NaN</td>\n",
       "      <td>-unknown-</td>\n",
       "      <td>NaN</td>\n",
       "      <td>facebook</td>\n",
       "      <td>0</td>\n",
       "      <td>en</td>\n",
       "      <td>direct</td>\n",
       "      <td>direct</td>\n",
       "      <td>untracked</td>\n",
       "      <td>Web</td>\n",
       "      <td>Mac Desktop</td>\n",
       "      <td>Chrome</td>\n",
       "    </tr>\n",
       "    <tr>\n",
       "      <td>1</td>\n",
       "      <td>820tgsjxq7</td>\n",
       "      <td>2011-05-25</td>\n",
       "      <td>20090523174809</td>\n",
       "      <td>NaN</td>\n",
       "      <td>MALE</td>\n",
       "      <td>38.0</td>\n",
       "      <td>facebook</td>\n",
       "      <td>0</td>\n",
       "      <td>en</td>\n",
       "      <td>seo</td>\n",
       "      <td>google</td>\n",
       "      <td>untracked</td>\n",
       "      <td>Web</td>\n",
       "      <td>Mac Desktop</td>\n",
       "      <td>Chrome</td>\n",
       "    </tr>\n",
       "    <tr>\n",
       "      <td>2</td>\n",
       "      <td>4ft3gnwmtx</td>\n",
       "      <td>2010-09-28</td>\n",
       "      <td>20090609231247</td>\n",
       "      <td>2010-08-02</td>\n",
       "      <td>FEMALE</td>\n",
       "      <td>56.0</td>\n",
       "      <td>basic</td>\n",
       "      <td>3</td>\n",
       "      <td>en</td>\n",
       "      <td>direct</td>\n",
       "      <td>direct</td>\n",
       "      <td>untracked</td>\n",
       "      <td>Web</td>\n",
       "      <td>Windows Desktop</td>\n",
       "      <td>IE</td>\n",
       "    </tr>\n",
       "    <tr>\n",
       "      <td>3</td>\n",
       "      <td>bjjt8pjhuk</td>\n",
       "      <td>2011-12-05</td>\n",
       "      <td>20091031060129</td>\n",
       "      <td>2012-09-08</td>\n",
       "      <td>FEMALE</td>\n",
       "      <td>42.0</td>\n",
       "      <td>facebook</td>\n",
       "      <td>0</td>\n",
       "      <td>en</td>\n",
       "      <td>direct</td>\n",
       "      <td>direct</td>\n",
       "      <td>untracked</td>\n",
       "      <td>Web</td>\n",
       "      <td>Mac Desktop</td>\n",
       "      <td>Firefox</td>\n",
       "    </tr>\n",
       "    <tr>\n",
       "      <td>4</td>\n",
       "      <td>87mebub9p4</td>\n",
       "      <td>2010-09-14</td>\n",
       "      <td>20091208061105</td>\n",
       "      <td>2010-02-18</td>\n",
       "      <td>-unknown-</td>\n",
       "      <td>41.0</td>\n",
       "      <td>basic</td>\n",
       "      <td>0</td>\n",
       "      <td>en</td>\n",
       "      <td>direct</td>\n",
       "      <td>direct</td>\n",
       "      <td>untracked</td>\n",
       "      <td>Web</td>\n",
       "      <td>Mac Desktop</td>\n",
       "      <td>Chrome</td>\n",
       "    </tr>\n",
       "  </tbody>\n",
       "</table>\n",
       "</div>"
      ],
      "text/plain": [
       "           id date_account_created  timestamp_first_active date_first_booking  \\\n",
       "0  gxn3p5htnn           2010-06-28          20090319043255                NaN   \n",
       "1  820tgsjxq7           2011-05-25          20090523174809                NaN   \n",
       "2  4ft3gnwmtx           2010-09-28          20090609231247         2010-08-02   \n",
       "3  bjjt8pjhuk           2011-12-05          20091031060129         2012-09-08   \n",
       "4  87mebub9p4           2010-09-14          20091208061105         2010-02-18   \n",
       "\n",
       "      gender   age signup_method  signup_flow language affiliate_channel  \\\n",
       "0  -unknown-   NaN      facebook            0       en            direct   \n",
       "1       MALE  38.0      facebook            0       en               seo   \n",
       "2     FEMALE  56.0         basic            3       en            direct   \n",
       "3     FEMALE  42.0      facebook            0       en            direct   \n",
       "4  -unknown-  41.0         basic            0       en            direct   \n",
       "\n",
       "  affiliate_provider first_affiliate_tracked signup_app first_device_type  \\\n",
       "0             direct               untracked        Web       Mac Desktop   \n",
       "1             google               untracked        Web       Mac Desktop   \n",
       "2             direct               untracked        Web   Windows Desktop   \n",
       "3             direct               untracked        Web       Mac Desktop   \n",
       "4             direct               untracked        Web       Mac Desktop   \n",
       "\n",
       "  first_browser  \n",
       "0        Chrome  \n",
       "1        Chrome  \n",
       "2            IE  \n",
       "3       Firefox  \n",
       "4        Chrome  "
      ]
     },
     "execution_count": 8,
     "metadata": {},
     "output_type": "execute_result"
    }
   ],
   "source": [
    "all_users = pd.concat([train_users,test_users])\n",
    "all_users.head()"
   ]
  },
  {
   "cell_type": "markdown",
   "metadata": {},
   "source": [
    "## first_device_type"
   ]
  },
  {
   "cell_type": "code",
   "execution_count": 9,
   "metadata": {},
   "outputs": [],
   "source": [
    "device = all_users[\"first_device_type\"].value_counts()"
   ]
  },
  {
   "cell_type": "code",
   "execution_count": 10,
   "metadata": {},
   "outputs": [
    {
     "data": {
      "text/plain": [
       "'C:\\\\Users\\\\dell\\\\Desktop\\\\airbnb\\\\data\\\\device_distribution.html'"
      ]
     },
     "execution_count": 10,
     "metadata": {},
     "output_type": "execute_result"
    }
   ],
   "source": [
    "x,y = device.index.tolist(),device.values.tolist(),\n",
    "from pyecharts import options as opts\n",
    "from pyecharts.charts import Bar\n",
    "\n",
    "\n",
    "\n",
    "c = (\n",
    "    Bar()\n",
    "    .add_xaxis(x)\n",
    "    .add_yaxis(\"device_distribution\",y, )                                                       \n",
    "    .set_series_opts(label_opts=opts.LabelOpts(is_show=False))\n",
    "    \n",
    "    .set_global_opts(\n",
    "        title_opts=opts.TitleOpts(title=\"device_distribution\"),\n",
    "        xaxis_opts=opts.AxisOpts(\n",
    "            axistick_opts=opts.AxisTickOpts(is_align_with_label=True),\n",
    "            axislabel_opts={\"rotate\":-45},\n",
    "            is_scale=False,\n",
    "            boundary_gap=True,\n",
    "        ),\n",
    "        \n",
    "  \n",
    "    )\n",
    "   \n",
    ")\n",
    "c.render(\"device_distribution.html\")"
   ]
  },
  {
   "cell_type": "markdown",
   "metadata": {},
   "source": [
    "## country_destination"
   ]
  },
  {
   "cell_type": "code",
   "execution_count": 11,
   "metadata": {},
   "outputs": [],
   "source": [
    "device = train_users_.loc[train_users_[\"language\"]==\"zh\"]"
   ]
  },
  {
   "cell_type": "code",
   "execution_count": 13,
   "metadata": {},
   "outputs": [],
   "source": [
    "train_users_no_DNF = train_users_.loc[train_users_[\"country_destination\"]!=\"NDF\"]\n",
    "#train_users_no_DNF\n",
    "lan = train_users_no_DNF.groupby(\"language\")[\"country_destination\"].value_counts()"
   ]
  },
  {
   "cell_type": "code",
   "execution_count": 15,
   "metadata": {},
   "outputs": [
    {
     "data": {
      "text/plain": [
       "'C:\\\\Users\\\\dell\\\\Desktop\\\\airbnb\\\\data\\\\country_destination.html'"
      ]
     },
     "execution_count": 15,
     "metadata": {},
     "output_type": "execute_result"
    }
   ],
   "source": [
    "import json\n",
    "from pyecharts import options as opts\n",
    "from pyecharts.charts import Page, TreeMap\n",
    "data =[]\n",
    "x,y = lan.index.tolist(),lan.values.tolist()\n",
    "for i in range(133):\n",
    "    a = [{\"value\":y[i], \"name\": x[i]},]\n",
    "    data.extend(a)\n",
    "    \n",
    "c = (\n",
    "     TreeMap()\n",
    "        .add(\"country_destination\", data)\n",
    "        .set_global_opts(title_opts=opts.TitleOpts(title=\"country_destination\"))\n",
    "        .set_series_opts(\n",
    "            legend_opts=opts.LegendOpts(\n",
    "                is_show=True\n",
    "            ),\n",
    "\n",
    "           label_opts=opts.LabelOpts(position=\"inside\"),\n",
    "            )\n",
    ")\n",
    "c.render(\"country_destination.html\")"
   ]
  },
  {
   "cell_type": "code",
   "execution_count": 16,
   "metadata": {},
   "outputs": [
    {
     "data": {
      "text/plain": [
       "id                         False\n",
       "date_account_created       False\n",
       "timestamp_first_active     False\n",
       "date_first_booking          True\n",
       "gender                     False\n",
       "age                         True\n",
       "signup_method              False\n",
       "signup_flow                False\n",
       "language                   False\n",
       "affiliate_channel          False\n",
       "affiliate_provider         False\n",
       "first_affiliate_tracked     True\n",
       "signup_app                 False\n",
       "first_device_type          False\n",
       "first_browser              False\n",
       "dtype: bool"
      ]
     },
     "execution_count": 16,
     "metadata": {},
     "output_type": "execute_result"
    }
   ],
   "source": [
    "all_users.isna().any()"
   ]
  },
  {
   "cell_type": "markdown",
   "metadata": {},
   "source": [
    "## date_account_created"
   ]
  },
  {
   "cell_type": "code",
   "execution_count": 17,
   "metadata": {},
   "outputs": [
    {
     "data": {
      "text/plain": [
       "0    2010-06\n",
       "1    2011-05\n",
       "2    2010-09\n",
       "3    2011-12\n",
       "4    2010-09\n",
       "Name: y-m, dtype: object"
      ]
     },
     "execution_count": 17,
     "metadata": {},
     "output_type": "execute_result"
    }
   ],
   "source": [
    "all_users[\"y-m\"] = train_users[\"date_account_created\"].str[:7]\n",
    "all_users[\"y-m\"].head()"
   ]
  },
  {
   "cell_type": "code",
   "execution_count": 18,
   "metadata": {},
   "outputs": [
    {
     "data": {
      "text/plain": [
       "y-m\n",
       "2010-01    122\n",
       "2010-02    204\n",
       "2010-03    326\n",
       "2010-04    314\n",
       "2010-05    454\n",
       "Name: id, dtype: int64"
      ]
     },
     "execution_count": 18,
     "metadata": {},
     "output_type": "execute_result"
    }
   ],
   "source": [
    "date_account_created = all_users.groupby(\"y-m\")[\"id\"].count()\n",
    "date_account_created.head()"
   ]
  },
  {
   "cell_type": "code",
   "execution_count": 19,
   "metadata": {},
   "outputs": [
    {
     "data": {
      "text/plain": [
       "'C:\\\\Users\\\\dell\\\\Desktop\\\\airbnb\\\\data\\\\Monthly New Users.html'"
      ]
     },
     "execution_count": 19,
     "metadata": {},
     "output_type": "execute_result"
    }
   ],
   "source": [
    "import pyecharts.options as opts\n",
    "from pyecharts.charts import Line\n",
    "x,y = date_account_created.index.tolist(),date_account_created.values.tolist()\n",
    "\n",
    "c = (\n",
    "    Line()\n",
    "    .add_xaxis(x)\n",
    "    .add_yaxis(\"date_account_created_number\", y, is_smooth=True,linestyle_opts=opts.LineStyleOpts( width=5),)\n",
    "    .set_series_opts(\n",
    "            \n",
    "            label_opts=opts.LabelOpts(is_show=False),\n",
    "        )\n",
    "    .set_global_opts(title_opts=opts.TitleOpts(title=\"Monthly New Users\"),\n",
    "                     xaxis_opts=opts.AxisOpts(\n",
    "            axistick_opts=opts.AxisTickOpts(is_align_with_label=True),\n",
    "            axislabel_opts={\"rotate\":-90},\n",
    "            is_scale=False,\n",
    "            boundary_gap=True,\n",
    "        ),)\n",
    ")\n",
    "c.render(\"Monthly New Users.html\")"
   ]
  },
  {
   "cell_type": "markdown",
   "metadata": {},
   "source": [
    "## Gender ratio"
   ]
  },
  {
   "cell_type": "code",
   "execution_count": 20,
   "metadata": {},
   "outputs": [
    {
     "data": {
      "text/plain": [
       "-unknown-    129480\n",
       "FEMALE        77524\n",
       "MALE          68209\n",
       "OTHER           334\n",
       "Name: gender, dtype: int64"
      ]
     },
     "execution_count": 20,
     "metadata": {},
     "output_type": "execute_result"
    }
   ],
   "source": [
    "all_users[\"gender\"].value_counts()"
   ]
  },
  {
   "cell_type": "code",
   "execution_count": 21,
   "metadata": {},
   "outputs": [
    {
     "data": {
      "text/plain": [
       "'C:\\\\Users\\\\dell\\\\Desktop\\\\airbnb\\\\data\\\\Airbnb user gender ratio.html'"
      ]
     },
     "execution_count": 21,
     "metadata": {},
     "output_type": "execute_result"
    }
   ],
   "source": [
    "from pyecharts import options as opts\n",
    "from pyecharts.charts import Page, Pie\n",
    "x =[\"FEMALE\",\"MALE\"]\n",
    "y =[77524,68209]\n",
    "c = (\n",
    "    Pie()\n",
    "    .add(\n",
    "        \"\",\n",
    "        [list(z) for z in zip(x,y)],\n",
    "        radius=[\"40%\", \"75%\"], center = [\"60%\", \"55%\"]\n",
    "    )\n",
    "    .set_global_opts(\n",
    "        title_opts=opts.TitleOpts(title=\"Airbnb user gender ratio\"),\n",
    "        legend_opts=opts.LegendOpts(\n",
    "            orient=\"vertical\", pos_top=\"15%\", pos_left=\"2%\"\n",
    "        ),\n",
    "    )\n",
    "    .set_series_opts(label_opts=opts.LabelOpts(formatter=\"{b}: {c}\"))\n",
    ")\n",
    "c.render(\"Airbnb user gender ratio.html\")"
   ]
  },
  {
   "cell_type": "markdown",
   "metadata": {},
   "source": [
    "## Age distribution"
   ]
  },
  {
   "cell_type": "code",
   "execution_count": 22,
   "metadata": {},
   "outputs": [],
   "source": [
    "all_users.loc[((all_users[\"age\"]<7)|(all_users[\"age\"]>75)),\"age\"]=0"
   ]
  },
  {
   "cell_type": "code",
   "execution_count": 23,
   "metadata": {},
   "outputs": [],
   "source": [
    "age = all_users.loc[all_users[\"age\"]!=0,\"age\"]\n",
    "age = age.dropna()\n",
    "age_counts = age.value_counts()\n",
    "age_counts_sort = age_counts.sort_index()"
   ]
  },
  {
   "cell_type": "code",
   "execution_count": 24,
   "metadata": {},
   "outputs": [
    {
     "data": {
      "text/plain": [
       "'C:\\\\Users\\\\dell\\\\Desktop\\\\airbnb\\\\data\\\\Age_distribution_count.html'"
      ]
     },
     "execution_count": 24,
     "metadata": {},
     "output_type": "execute_result"
    }
   ],
   "source": [
    "from pyecharts import options as opts\n",
    "from pyecharts.charts import Bar\n",
    "\n",
    "x,y = age_counts_sort.index.tolist(),age_counts_sort.values.tolist()\n",
    "\n",
    "c = (\n",
    "    Bar()\n",
    "    .add_xaxis(x)\n",
    "    .add_yaxis(\"Age_distribution_count\",y, )                                                       \n",
    "    .set_series_opts(label_opts=opts.LabelOpts(is_show=False))\n",
    "    \n",
    "    .set_global_opts(\n",
    "        title_opts=opts.TitleOpts(title=\"Age_distribution_count\"),\n",
    "        xaxis_opts=opts.AxisOpts(\n",
    "            axistick_opts=opts.AxisTickOpts(is_align_with_label=True),\n",
    "            axislabel_opts={\"rotate\":0},\n",
    "            is_scale=False,\n",
    "            boundary_gap=True,\n",
    "        ),\n",
    "        \n",
    "  \n",
    "    )\n",
    "   \n",
    ")\n",
    "c.render(\"Age_distribution_count.html\")"
   ]
  },
  {
   "cell_type": "markdown",
   "metadata": {},
   "source": [
    "## Users Geographic Distribution"
   ]
  },
  {
   "cell_type": "code",
   "execution_count": 25,
   "metadata": {},
   "outputs": [],
   "source": [
    "local = all_users[\"language\"].value_counts()"
   ]
  },
  {
   "cell_type": "code",
   "execution_count": 26,
   "metadata": {},
   "outputs": [
    {
     "data": {
      "text/plain": [
       "26"
      ]
     },
     "execution_count": 26,
     "metadata": {},
     "output_type": "execute_result"
    }
   ],
   "source": [
    "x,y = local.index.tolist(),local.values.tolist()\n",
    "len(y)"
   ]
  },
  {
   "cell_type": "code",
   "execution_count": 28,
   "metadata": {},
   "outputs": [
    {
     "data": {
      "text/plain": [
       "'C:\\\\Users\\\\dell\\\\Desktop\\\\airbnb\\\\data\\\\Users_Geographic_Distribution.html'"
      ]
     },
     "execution_count": 28,
     "metadata": {},
     "output_type": "execute_result"
    }
   ],
   "source": [
    "from pyecharts import options as opts\n",
    "from pyecharts.charts import Page, TreeMap\n",
    "data =[]\n",
    "\n",
    "for i in range(26):\n",
    "    a = [\n",
    "        {\"value\":y[i], \"name\": x[i]},\n",
    "    ]\n",
    "    data.extend(a)\n",
    "\n",
    "c = (\n",
    "    TreeMap()\n",
    "    .add(\"Users_Geographic_Distribution\", data)\n",
    "    .set_global_opts(title_opts=opts.TitleOpts(title=\"\"))\n",
    "    .set_series_opts(\n",
    "        legend_opts=opts.LegendOpts(\n",
    "            is_show=True\n",
    "        ),\n",
    "            \n",
    "       label_opts=opts.LabelOpts(position=\"inside\"),\n",
    "        )\n",
    ")\n",
    "    \n",
    "c.render(\"Users_Geographic_Distribution.html\")"
   ]
  },
  {
   "cell_type": "markdown",
   "metadata": {},
   "source": [
    "## Promotion Channel Portfolio"
   ]
  },
  {
   "cell_type": "code",
   "execution_count": 29,
   "metadata": {},
   "outputs": [],
   "source": [
    "all_users[\"channel-provider\"] = all_users[\"affiliate_channel\"].str.cat(all_users[\"affiliate_provider\"],sep =\"-\")"
   ]
  },
  {
   "cell_type": "code",
   "execution_count": 30,
   "metadata": {},
   "outputs": [
    {
     "data": {
      "text/plain": [
       "0    direct-direct\n",
       "1       seo-google\n",
       "2    direct-direct\n",
       "3    direct-direct\n",
       "4    direct-direct\n",
       "Name: channel-provider, dtype: object"
      ]
     },
     "execution_count": 30,
     "metadata": {},
     "output_type": "execute_result"
    }
   ],
   "source": [
    "all_users[\"channel-provider\"].head()"
   ]
  },
  {
   "cell_type": "markdown",
   "metadata": {},
   "source": [
    "## Promotion Channel visit count"
   ]
  },
  {
   "cell_type": "code",
   "execution_count": 31,
   "metadata": {},
   "outputs": [
    {
     "data": {
      "text/plain": [
       "channel-provider\n",
       "api-other                      8167\n",
       "content-facebook                597\n",
       "content-google                 3043\n",
       "content-gsp                     455\n",
       "content-other                    22\n",
       "content-yandex                    1\n",
       "direct-direct                181270\n",
       "direct-other                    301\n",
       "other-craigslist               3475\n",
       "other-email-marketing           270\n",
       "other-facebook-open-graph       566\n",
       "other-meetup                    358\n",
       "other-other                    4034\n",
       "other-padmapper                 836\n",
       "other-wayn                        8\n",
       "remarketing-google             1266\n",
       "remarketing-yandex                2\n",
       "sem-brand-baidu                   8\n",
       "sem-brand-bing                 2104\n",
       "sem-brand-daum                    1\n",
       "sem-brand-google              34273\n",
       "sem-brand-naver                   7\n",
       "sem-brand-other                  39\n",
       "sem-brand-yandex                  7\n",
       "sem-non-brand-baidu              18\n",
       "sem-non-brand-bing              916\n",
       "sem-non-brand-daum                2\n",
       "sem-non-brand-facebook            5\n",
       "sem-non-brand-google          18092\n",
       "sem-non-brand-naver              59\n",
       "sem-non-brand-other             144\n",
       "sem-non-brand-vast              830\n",
       "sem-non-brand-yahoo               1\n",
       "sem-non-brand-yandex              8\n",
       "seo-baidu                         6\n",
       "seo-bing                        699\n",
       "seo-facebook                   3394\n",
       "seo-google                     9282\n",
       "seo-other                       329\n",
       "seo-yahoo                       652\n",
       "Name: id, dtype: int64"
      ]
     },
     "execution_count": 31,
     "metadata": {},
     "output_type": "execute_result"
    }
   ],
   "source": [
    "visit = all_users.groupby([\"channel-provider\"])[\"id\"].count()\n",
    "visit"
   ]
  },
  {
   "cell_type": "markdown",
   "metadata": {},
   "source": [
    "## Promotion Channel date_first_booking count"
   ]
  },
  {
   "cell_type": "code",
   "execution_count": 32,
   "metadata": {},
   "outputs": [
    {
     "data": {
      "text/plain": [
       "channel-provider\n",
       "direct-direct                59234\n",
       "sem-brand-google             10705\n",
       "sem-non-brand-google          6516\n",
       "api-other                     2785\n",
       "seo-google                    2739\n",
       "other-craigslist              1616\n",
       "other-other                   1508\n",
       "seo-facebook                   724\n",
       "content-google                 451\n",
       "sem-brand-bing                 375\n",
       "remarketing-google             368\n",
       "sem-non-brand-bing             296\n",
       "sem-non-brand-vast             271\n",
       "other-padmapper                252\n",
       "seo-yahoo                      174\n",
       "direct-other                   164\n",
       "seo-bing                       162\n",
       "seo-other                      156\n",
       "other-facebook-open-graph      141\n",
       "content-facebook                68\n",
       "other-meetup                    46\n",
       "sem-non-brand-other             45\n",
       "content-gsp                     37\n",
       "other-email-marketing           37\n",
       "sem-non-brand-naver             15\n",
       "sem-non-brand-baidu              5\n",
       "sem-brand-baidu                  5\n",
       "sem-brand-yandex                 3\n",
       "sem-brand-naver                  3\n",
       "sem-brand-other                  3\n",
       "content-other                    2\n",
       "sem-non-brand-daum               1\n",
       "sem-non-brand-yandex             1\n",
       "content-yandex                   0\n",
       "sem-non-brand-yahoo              0\n",
       "seo-baidu                        0\n",
       "other-wayn                       0\n",
       "remarketing-yandex               0\n",
       "sem-non-brand-facebook           0\n",
       "sem-brand-daum                   0\n",
       "Name: date_first_booking, dtype: int64"
      ]
     },
     "execution_count": 32,
     "metadata": {},
     "output_type": "execute_result"
    }
   ],
   "source": [
    "booking = all_users.groupby([\"channel-provider\"])[\"date_first_booking\"].count()\n",
    "booking.sort_values(ascending =False)"
   ]
  },
  {
   "cell_type": "code",
   "execution_count": 33,
   "metadata": {},
   "outputs": [
    {
     "data": {
      "text/plain": [
       "88908"
      ]
     },
     "execution_count": 33,
     "metadata": {},
     "output_type": "execute_result"
    }
   ],
   "source": [
    "booking.sum()"
   ]
  },
  {
   "cell_type": "markdown",
   "metadata": {},
   "source": [
    "## Promotion Channel Conversion rate"
   ]
  },
  {
   "cell_type": "code",
   "execution_count": 34,
   "metadata": {},
   "outputs": [
    {
     "data": {
      "text/plain": [
       "channel-provider\n",
       "api-other                    0.341006\n",
       "content-facebook             0.113903\n",
       "content-google               0.148209\n",
       "content-gsp                  0.081319\n",
       "content-other                0.090909\n",
       "content-yandex               0.000000\n",
       "direct-direct                0.326772\n",
       "direct-other                 0.544850\n",
       "other-craigslist             0.465036\n",
       "other-email-marketing        0.137037\n",
       "other-facebook-open-graph    0.249117\n",
       "other-meetup                 0.128492\n",
       "other-other                  0.373823\n",
       "other-padmapper              0.301435\n",
       "other-wayn                   0.000000\n",
       "remarketing-google           0.290679\n",
       "remarketing-yandex           0.000000\n",
       "sem-brand-baidu              0.625000\n",
       "sem-brand-bing               0.178232\n",
       "sem-brand-daum               0.000000\n",
       "sem-brand-google             0.312345\n",
       "sem-brand-naver              0.428571\n",
       "sem-brand-other              0.076923\n",
       "sem-brand-yandex             0.428571\n",
       "sem-non-brand-baidu          0.277778\n",
       "sem-non-brand-bing           0.323144\n",
       "sem-non-brand-daum           0.500000\n",
       "sem-non-brand-facebook       0.000000\n",
       "sem-non-brand-google         0.360159\n",
       "sem-non-brand-naver          0.254237\n",
       "sem-non-brand-other          0.312500\n",
       "sem-non-brand-vast           0.326506\n",
       "sem-non-brand-yahoo          0.000000\n",
       "sem-non-brand-yandex         0.125000\n",
       "seo-baidu                    0.000000\n",
       "seo-bing                     0.231760\n",
       "seo-facebook                 0.213318\n",
       "seo-google                   0.295087\n",
       "seo-other                    0.474164\n",
       "seo-yahoo                    0.266871\n",
       "dtype: float64"
      ]
     },
     "execution_count": 34,
     "metadata": {},
     "output_type": "execute_result"
    }
   ],
   "source": [
    "rate = booking/visit\n",
    "#rate[\"provider-channel\"] = rate[\"affiliate_channel\"].str.cat(rate[\"affiliate_provider\"],sep=\"-\")\n",
    "rate"
   ]
  },
  {
   "cell_type": "code",
   "execution_count": 35,
   "metadata": {},
   "outputs": [],
   "source": [
    "v_b = pd.merge(visit,booking,on = \"channel-provider\" )"
   ]
  },
  {
   "cell_type": "code",
   "execution_count": 36,
   "metadata": {},
   "outputs": [],
   "source": [
    "v_b.columns=[\"visit\",\"booking\"]"
   ]
  },
  {
   "cell_type": "code",
   "execution_count": 37,
   "metadata": {},
   "outputs": [
    {
     "data": {
      "text/html": [
       "<div>\n",
       "<style scoped>\n",
       "    .dataframe tbody tr th:only-of-type {\n",
       "        vertical-align: middle;\n",
       "    }\n",
       "\n",
       "    .dataframe tbody tr th {\n",
       "        vertical-align: top;\n",
       "    }\n",
       "\n",
       "    .dataframe thead th {\n",
       "        text-align: right;\n",
       "    }\n",
       "</style>\n",
       "<table border=\"1\" class=\"dataframe\">\n",
       "  <thead>\n",
       "    <tr style=\"text-align: right;\">\n",
       "      <th></th>\n",
       "      <th>visit</th>\n",
       "      <th>booking</th>\n",
       "      <th>rate</th>\n",
       "    </tr>\n",
       "    <tr>\n",
       "      <th>channel-provider</th>\n",
       "      <th></th>\n",
       "      <th></th>\n",
       "      <th></th>\n",
       "    </tr>\n",
       "  </thead>\n",
       "  <tbody>\n",
       "    <tr>\n",
       "      <td>direct-direct</td>\n",
       "      <td>181270</td>\n",
       "      <td>59234</td>\n",
       "      <td>0.326772</td>\n",
       "    </tr>\n",
       "    <tr>\n",
       "      <td>sem-brand-google</td>\n",
       "      <td>34273</td>\n",
       "      <td>10705</td>\n",
       "      <td>0.312345</td>\n",
       "    </tr>\n",
       "    <tr>\n",
       "      <td>sem-non-brand-google</td>\n",
       "      <td>18092</td>\n",
       "      <td>6516</td>\n",
       "      <td>0.360159</td>\n",
       "    </tr>\n",
       "    <tr>\n",
       "      <td>api-other</td>\n",
       "      <td>8167</td>\n",
       "      <td>2785</td>\n",
       "      <td>0.341006</td>\n",
       "    </tr>\n",
       "    <tr>\n",
       "      <td>seo-google</td>\n",
       "      <td>9282</td>\n",
       "      <td>2739</td>\n",
       "      <td>0.295087</td>\n",
       "    </tr>\n",
       "    <tr>\n",
       "      <td>other-craigslist</td>\n",
       "      <td>3475</td>\n",
       "      <td>1616</td>\n",
       "      <td>0.465036</td>\n",
       "    </tr>\n",
       "    <tr>\n",
       "      <td>other-other</td>\n",
       "      <td>4034</td>\n",
       "      <td>1508</td>\n",
       "      <td>0.373823</td>\n",
       "    </tr>\n",
       "    <tr>\n",
       "      <td>seo-facebook</td>\n",
       "      <td>3394</td>\n",
       "      <td>724</td>\n",
       "      <td>0.213318</td>\n",
       "    </tr>\n",
       "    <tr>\n",
       "      <td>content-google</td>\n",
       "      <td>3043</td>\n",
       "      <td>451</td>\n",
       "      <td>0.148209</td>\n",
       "    </tr>\n",
       "    <tr>\n",
       "      <td>sem-brand-bing</td>\n",
       "      <td>2104</td>\n",
       "      <td>375</td>\n",
       "      <td>0.178232</td>\n",
       "    </tr>\n",
       "    <tr>\n",
       "      <td>remarketing-google</td>\n",
       "      <td>1266</td>\n",
       "      <td>368</td>\n",
       "      <td>0.290679</td>\n",
       "    </tr>\n",
       "    <tr>\n",
       "      <td>sem-non-brand-bing</td>\n",
       "      <td>916</td>\n",
       "      <td>296</td>\n",
       "      <td>0.323144</td>\n",
       "    </tr>\n",
       "    <tr>\n",
       "      <td>sem-non-brand-vast</td>\n",
       "      <td>830</td>\n",
       "      <td>271</td>\n",
       "      <td>0.326506</td>\n",
       "    </tr>\n",
       "    <tr>\n",
       "      <td>other-padmapper</td>\n",
       "      <td>836</td>\n",
       "      <td>252</td>\n",
       "      <td>0.301435</td>\n",
       "    </tr>\n",
       "    <tr>\n",
       "      <td>seo-yahoo</td>\n",
       "      <td>652</td>\n",
       "      <td>174</td>\n",
       "      <td>0.266871</td>\n",
       "    </tr>\n",
       "    <tr>\n",
       "      <td>direct-other</td>\n",
       "      <td>301</td>\n",
       "      <td>164</td>\n",
       "      <td>0.544850</td>\n",
       "    </tr>\n",
       "    <tr>\n",
       "      <td>seo-bing</td>\n",
       "      <td>699</td>\n",
       "      <td>162</td>\n",
       "      <td>0.231760</td>\n",
       "    </tr>\n",
       "    <tr>\n",
       "      <td>seo-other</td>\n",
       "      <td>329</td>\n",
       "      <td>156</td>\n",
       "      <td>0.474164</td>\n",
       "    </tr>\n",
       "    <tr>\n",
       "      <td>other-facebook-open-graph</td>\n",
       "      <td>566</td>\n",
       "      <td>141</td>\n",
       "      <td>0.249117</td>\n",
       "    </tr>\n",
       "    <tr>\n",
       "      <td>content-facebook</td>\n",
       "      <td>597</td>\n",
       "      <td>68</td>\n",
       "      <td>0.113903</td>\n",
       "    </tr>\n",
       "    <tr>\n",
       "      <td>other-meetup</td>\n",
       "      <td>358</td>\n",
       "      <td>46</td>\n",
       "      <td>0.128492</td>\n",
       "    </tr>\n",
       "    <tr>\n",
       "      <td>sem-non-brand-other</td>\n",
       "      <td>144</td>\n",
       "      <td>45</td>\n",
       "      <td>0.312500</td>\n",
       "    </tr>\n",
       "    <tr>\n",
       "      <td>other-email-marketing</td>\n",
       "      <td>270</td>\n",
       "      <td>37</td>\n",
       "      <td>0.137037</td>\n",
       "    </tr>\n",
       "    <tr>\n",
       "      <td>content-gsp</td>\n",
       "      <td>455</td>\n",
       "      <td>37</td>\n",
       "      <td>0.081319</td>\n",
       "    </tr>\n",
       "    <tr>\n",
       "      <td>sem-non-brand-naver</td>\n",
       "      <td>59</td>\n",
       "      <td>15</td>\n",
       "      <td>0.254237</td>\n",
       "    </tr>\n",
       "    <tr>\n",
       "      <td>sem-brand-baidu</td>\n",
       "      <td>8</td>\n",
       "      <td>5</td>\n",
       "      <td>0.625000</td>\n",
       "    </tr>\n",
       "    <tr>\n",
       "      <td>sem-non-brand-baidu</td>\n",
       "      <td>18</td>\n",
       "      <td>5</td>\n",
       "      <td>0.277778</td>\n",
       "    </tr>\n",
       "    <tr>\n",
       "      <td>sem-brand-other</td>\n",
       "      <td>39</td>\n",
       "      <td>3</td>\n",
       "      <td>0.076923</td>\n",
       "    </tr>\n",
       "    <tr>\n",
       "      <td>sem-brand-yandex</td>\n",
       "      <td>7</td>\n",
       "      <td>3</td>\n",
       "      <td>0.428571</td>\n",
       "    </tr>\n",
       "    <tr>\n",
       "      <td>sem-brand-naver</td>\n",
       "      <td>7</td>\n",
       "      <td>3</td>\n",
       "      <td>0.428571</td>\n",
       "    </tr>\n",
       "    <tr>\n",
       "      <td>content-other</td>\n",
       "      <td>22</td>\n",
       "      <td>2</td>\n",
       "      <td>0.090909</td>\n",
       "    </tr>\n",
       "    <tr>\n",
       "      <td>sem-non-brand-daum</td>\n",
       "      <td>2</td>\n",
       "      <td>1</td>\n",
       "      <td>0.500000</td>\n",
       "    </tr>\n",
       "    <tr>\n",
       "      <td>sem-non-brand-yandex</td>\n",
       "      <td>8</td>\n",
       "      <td>1</td>\n",
       "      <td>0.125000</td>\n",
       "    </tr>\n",
       "    <tr>\n",
       "      <td>sem-non-brand-facebook</td>\n",
       "      <td>5</td>\n",
       "      <td>0</td>\n",
       "      <td>0.000000</td>\n",
       "    </tr>\n",
       "    <tr>\n",
       "      <td>content-yandex</td>\n",
       "      <td>1</td>\n",
       "      <td>0</td>\n",
       "      <td>0.000000</td>\n",
       "    </tr>\n",
       "    <tr>\n",
       "      <td>sem-non-brand-yahoo</td>\n",
       "      <td>1</td>\n",
       "      <td>0</td>\n",
       "      <td>0.000000</td>\n",
       "    </tr>\n",
       "    <tr>\n",
       "      <td>seo-baidu</td>\n",
       "      <td>6</td>\n",
       "      <td>0</td>\n",
       "      <td>0.000000</td>\n",
       "    </tr>\n",
       "    <tr>\n",
       "      <td>sem-brand-daum</td>\n",
       "      <td>1</td>\n",
       "      <td>0</td>\n",
       "      <td>0.000000</td>\n",
       "    </tr>\n",
       "    <tr>\n",
       "      <td>remarketing-yandex</td>\n",
       "      <td>2</td>\n",
       "      <td>0</td>\n",
       "      <td>0.000000</td>\n",
       "    </tr>\n",
       "    <tr>\n",
       "      <td>other-wayn</td>\n",
       "      <td>8</td>\n",
       "      <td>0</td>\n",
       "      <td>0.000000</td>\n",
       "    </tr>\n",
       "  </tbody>\n",
       "</table>\n",
       "</div>"
      ],
      "text/plain": [
       "                            visit  booking      rate\n",
       "channel-provider                                    \n",
       "direct-direct              181270    59234  0.326772\n",
       "sem-brand-google            34273    10705  0.312345\n",
       "sem-non-brand-google        18092     6516  0.360159\n",
       "api-other                    8167     2785  0.341006\n",
       "seo-google                   9282     2739  0.295087\n",
       "other-craigslist             3475     1616  0.465036\n",
       "other-other                  4034     1508  0.373823\n",
       "seo-facebook                 3394      724  0.213318\n",
       "content-google               3043      451  0.148209\n",
       "sem-brand-bing               2104      375  0.178232\n",
       "remarketing-google           1266      368  0.290679\n",
       "sem-non-brand-bing            916      296  0.323144\n",
       "sem-non-brand-vast            830      271  0.326506\n",
       "other-padmapper               836      252  0.301435\n",
       "seo-yahoo                     652      174  0.266871\n",
       "direct-other                  301      164  0.544850\n",
       "seo-bing                      699      162  0.231760\n",
       "seo-other                     329      156  0.474164\n",
       "other-facebook-open-graph     566      141  0.249117\n",
       "content-facebook              597       68  0.113903\n",
       "other-meetup                  358       46  0.128492\n",
       "sem-non-brand-other           144       45  0.312500\n",
       "other-email-marketing         270       37  0.137037\n",
       "content-gsp                   455       37  0.081319\n",
       "sem-non-brand-naver            59       15  0.254237\n",
       "sem-brand-baidu                 8        5  0.625000\n",
       "sem-non-brand-baidu            18        5  0.277778\n",
       "sem-brand-other                39        3  0.076923\n",
       "sem-brand-yandex                7        3  0.428571\n",
       "sem-brand-naver                 7        3  0.428571\n",
       "content-other                  22        2  0.090909\n",
       "sem-non-brand-daum              2        1  0.500000\n",
       "sem-non-brand-yandex            8        1  0.125000\n",
       "sem-non-brand-facebook          5        0  0.000000\n",
       "content-yandex                  1        0  0.000000\n",
       "sem-non-brand-yahoo             1        0  0.000000\n",
       "seo-baidu                       6        0  0.000000\n",
       "sem-brand-daum                  1        0  0.000000\n",
       "remarketing-yandex              2        0  0.000000\n",
       "other-wayn                      8        0  0.000000"
      ]
     },
     "execution_count": 37,
     "metadata": {},
     "output_type": "execute_result"
    }
   ],
   "source": [
    "v_b[\"rate\"] = v_b[\"booking\"]/v_b[\"visit\"]\n",
    "v_b = v_b.sort_values(\"booking\",ascending = False)\n",
    "v_b"
   ]
  },
  {
   "cell_type": "code",
   "execution_count": 38,
   "metadata": {},
   "outputs": [
    {
     "data": {
      "text/plain": [
       "'C:\\\\Users\\\\dell\\\\Desktop\\\\airbnb\\\\data\\\\abc.html'"
      ]
     },
     "execution_count": 38,
     "metadata": {},
     "output_type": "execute_result"
    }
   ],
   "source": [
    "x,y,z,v = v_b.index.tolist()[:-25],v_b[\"visit\"].values.tolist()[:-25],v_b[\"booking\"].values.tolist()[:-25],v_b[\"rate\"].values.tolist()[:-25],\n",
    "from pyecharts import options as opts\n",
    "from pyecharts.charts import Bar, Grid, Line,Scatter\n",
    "\n",
    "\n",
    "\n",
    "bar = (\n",
    "    Bar()\n",
    "    .add_xaxis(x)\n",
    "    .add_yaxis(\n",
    "        \"page_view_volume\",y,label_opts=opts.LabelOpts(is_show=False),\n",
    "        yaxis_index=0,\n",
    "        \n",
    "    )\n",
    "    .add_yaxis(\n",
    "        \"sign_up_volume\",z,label_opts=opts.LabelOpts(is_show=False),\n",
    "       \n",
    "    )\n",
    "   .set_global_opts(\n",
    "   # title_opts=opts.TitleOpts(title=\"手环重量分布top10\"),\n",
    "    xaxis_opts=opts.AxisOpts(\n",
    "        axistick_opts=opts.AxisTickOpts(is_align_with_label=True),\n",
    "        axislabel_opts={\"rotate\":-25},\n",
    "        is_scale=False,\n",
    "        boundary_gap=True,\n",
    "    ),\n",
    "        \n",
    "  \n",
    "    )\n",
    "    \n",
    "    .extend_axis(\n",
    "        yaxis=opts.AxisOpts(\n",
    "            name=\"Conversion_rate\",\n",
    "            type_=\"value\",\n",
    "            min_=0,\n",
    "           # max_=1.00,\n",
    "            position=\"right\",\n",
    "            axisline_opts=opts.AxisLineOpts(\n",
    "                linestyle_opts=opts.LineStyleOpts(color=\"#d14a61\")\n",
    "            ),\n",
    "            axislabel_opts=opts.LabelOpts(formatter=\"{value}\"),\n",
    "        )\n",
    "    )\n",
    ")\n",
    "\n",
    "c = (\n",
    "    Line()\n",
    "    .add_xaxis(x)\n",
    "    .add_yaxis(\"Conversion_rate\", v,yaxis_index=1,label_opts=opts.LabelOpts(is_show=False),\n",
    "               markpoint_opts=opts.MarkPointOpts(\n",
    "                   data=[opts.MarkPointItem(name=\"mark_point\",\n",
    "                       coord=[x[10], y[10]], value=(y[10]\n",
    "                                                 )\n",
    "                   )]\n",
    "               ),\n",
    "              )\n",
    "\n",
    "    .set_global_opts(title_opts=opts.TitleOpts(title=\"\"),)\n",
    ")\n",
    "   \n",
    "\n",
    "\n",
    "bar.overlap(c)\n",
    "grid = (\n",
    "        Grid()\n",
    "        .add(bar, opts.GridOpts(pos_left=\"5%\", pos_right=\"20%\"), is_control_axis_index=True)\n",
    "        \n",
    "    )\n",
    "\n",
    "\n",
    "grid.render(\"abc.html\")"
   ]
  },
  {
   "cell_type": "code",
   "execution_count": 39,
   "metadata": {},
   "outputs": [],
   "source": [
    "v_b.to_excel(\"v_b.xls\")"
   ]
  },
  {
   "cell_type": "code",
   "execution_count": 40,
   "metadata": {},
   "outputs": [
    {
     "data": {
      "text/plain": [
       "'C:\\\\Users\\\\dell\\\\Desktop\\\\airbnb\\\\data\\\\channel_provider_sign_up_count.html'"
      ]
     },
     "execution_count": 40,
     "metadata": {},
     "output_type": "execute_result"
    }
   ],
   "source": [
    "from pyecharts import options as opts\n",
    "from pyecharts.charts import Bar\n",
    "x,y1,y2 = v_b.index.tolist()[-15:], v_b[\"booking\"].sort_values().tolist()[-15:],v_b[\"visit\"].sort_values().tolist()[-15:]\n",
    "c = (\n",
    "    Bar()\n",
    "    .add_xaxis(x)\n",
    "    .add_yaxis(\"booking\", y1,stack=\"stack2\")\n",
    "    .add_yaxis(\"visit\", y2,stack=\"stack2\")\n",
    "    .reversal_axis()\n",
    "    \n",
    "    .set_series_opts(label_opts=opts.LabelOpts(position = \"right\"))\n",
    "    .set_global_opts(title_opts=opts.TitleOpts(title=\"channel_provider_sign_up_count\"))\n",
    ")\n",
    "c.render(\"channel_provider_sign_up_count.html\")"
   ]
  },
  {
   "cell_type": "markdown",
   "metadata": {},
   "source": [
    "## channel_provider_first_affiliate_tracked"
   ]
  },
  {
   "cell_type": "code",
   "execution_count": 41,
   "metadata": {},
   "outputs": [
    {
     "data": {
      "text/plain": [
       "first_affiliate_tracked\n",
       "linked            62064\n",
       "local ops            69\n",
       "marketing           281\n",
       "omg               54859\n",
       "product            2353\n",
       "tracked-other      6655\n",
       "untracked        143181\n",
       "Name: id, dtype: int64"
      ]
     },
     "execution_count": 41,
     "metadata": {},
     "output_type": "execute_result"
    }
   ],
   "source": [
    "visit = all_users.groupby([\"first_affiliate_tracked\"])[\"id\"].count()\n",
    "visit"
   ]
  },
  {
   "cell_type": "code",
   "execution_count": 42,
   "metadata": {},
   "outputs": [
    {
     "data": {
      "text/plain": [
       "first_affiliate_tracked\n",
       "linked           20102\n",
       "local ops            9\n",
       "marketing           63\n",
       "omg              16425\n",
       "product            542\n",
       "tracked-other     2290\n",
       "untracked        47739\n",
       "Name: date_first_booking, dtype: int64"
      ]
     },
     "execution_count": 42,
     "metadata": {},
     "output_type": "execute_result"
    }
   ],
   "source": [
    "booking = all_users.groupby([\"first_affiliate_tracked\"])[\"date_first_booking\"].count()\n",
    "booking"
   ]
  },
  {
   "cell_type": "code",
   "execution_count": 43,
   "metadata": {},
   "outputs": [],
   "source": [
    "v_b = pd.merge(visit,booking,on = \"first_affiliate_tracked\" )\n",
    "v_b.columns=[\"visit\",\"booking\"]"
   ]
  },
  {
   "cell_type": "code",
   "execution_count": 44,
   "metadata": {},
   "outputs": [
    {
     "data": {
      "text/html": [
       "<div>\n",
       "<style scoped>\n",
       "    .dataframe tbody tr th:only-of-type {\n",
       "        vertical-align: middle;\n",
       "    }\n",
       "\n",
       "    .dataframe tbody tr th {\n",
       "        vertical-align: top;\n",
       "    }\n",
       "\n",
       "    .dataframe thead th {\n",
       "        text-align: right;\n",
       "    }\n",
       "</style>\n",
       "<table border=\"1\" class=\"dataframe\">\n",
       "  <thead>\n",
       "    <tr style=\"text-align: right;\">\n",
       "      <th></th>\n",
       "      <th>visit</th>\n",
       "      <th>booking</th>\n",
       "      <th>rate</th>\n",
       "    </tr>\n",
       "    <tr>\n",
       "      <th>first_affiliate_tracked</th>\n",
       "      <th></th>\n",
       "      <th></th>\n",
       "      <th></th>\n",
       "    </tr>\n",
       "  </thead>\n",
       "  <tbody>\n",
       "    <tr>\n",
       "      <td>untracked</td>\n",
       "      <td>143181</td>\n",
       "      <td>47739</td>\n",
       "      <td>0.333417</td>\n",
       "    </tr>\n",
       "    <tr>\n",
       "      <td>linked</td>\n",
       "      <td>62064</td>\n",
       "      <td>20102</td>\n",
       "      <td>0.323891</td>\n",
       "    </tr>\n",
       "    <tr>\n",
       "      <td>omg</td>\n",
       "      <td>54859</td>\n",
       "      <td>16425</td>\n",
       "      <td>0.299404</td>\n",
       "    </tr>\n",
       "    <tr>\n",
       "      <td>tracked-other</td>\n",
       "      <td>6655</td>\n",
       "      <td>2290</td>\n",
       "      <td>0.344102</td>\n",
       "    </tr>\n",
       "    <tr>\n",
       "      <td>product</td>\n",
       "      <td>2353</td>\n",
       "      <td>542</td>\n",
       "      <td>0.230344</td>\n",
       "    </tr>\n",
       "    <tr>\n",
       "      <td>marketing</td>\n",
       "      <td>281</td>\n",
       "      <td>63</td>\n",
       "      <td>0.224199</td>\n",
       "    </tr>\n",
       "    <tr>\n",
       "      <td>local ops</td>\n",
       "      <td>69</td>\n",
       "      <td>9</td>\n",
       "      <td>0.130435</td>\n",
       "    </tr>\n",
       "  </tbody>\n",
       "</table>\n",
       "</div>"
      ],
      "text/plain": [
       "                          visit  booking      rate\n",
       "first_affiliate_tracked                           \n",
       "untracked                143181    47739  0.333417\n",
       "linked                    62064    20102  0.323891\n",
       "omg                       54859    16425  0.299404\n",
       "tracked-other              6655     2290  0.344102\n",
       "product                    2353      542  0.230344\n",
       "marketing                   281       63  0.224199\n",
       "local ops                    69        9  0.130435"
      ]
     },
     "execution_count": 44,
     "metadata": {},
     "output_type": "execute_result"
    }
   ],
   "source": [
    "v_b[\"rate\"] = v_b[\"booking\"]/v_b[\"visit\"]\n",
    "v_b = v_b.sort_values(\"booking\",ascending = False)\n",
    "v_b"
   ]
  },
  {
   "cell_type": "code",
   "execution_count": 45,
   "metadata": {},
   "outputs": [
    {
     "data": {
      "text/plain": [
       "'C:\\\\Users\\\\dell\\\\Desktop\\\\airbnb\\\\data\\\\channel_provider_first_affiliate_tracked.html'"
      ]
     },
     "execution_count": 45,
     "metadata": {},
     "output_type": "execute_result"
    }
   ],
   "source": [
    "x,y,z,v = v_b.index.tolist(),v_b[\"visit\"].values.tolist(),v_b[\"booking\"].values.tolist(),v_b[\"rate\"].values.tolist()\n",
    "from pyecharts import options as opts\n",
    "from pyecharts.charts import Bar, Grid, Line,Scatter\n",
    "\n",
    "\n",
    "\n",
    "bar = (\n",
    "    Bar()\n",
    "    .add_xaxis(x)\n",
    "    .add_yaxis(\n",
    "        \"page_view_volume\",y,label_opts=opts.LabelOpts(is_show=False),\n",
    "        yaxis_index=0,\n",
    "        \n",
    "    )\n",
    "    .add_yaxis(\n",
    "        \"sign_up_volume\",z,label_opts=opts.LabelOpts(is_show=False),\n",
    "       \n",
    "    )\n",
    "   .set_global_opts(\n",
    "   # title_opts=opts.TitleOpts(title=\"手环重量分布top10\"),\n",
    "    xaxis_opts=opts.AxisOpts(\n",
    "        axistick_opts=opts.AxisTickOpts(is_align_with_label=True),\n",
    "        axislabel_opts={\"rotate\":-25},\n",
    "        is_scale=False,\n",
    "        boundary_gap=True,\n",
    "    ),\n",
    "        \n",
    "  \n",
    "    )\n",
    "    \n",
    "    .extend_axis(\n",
    "        yaxis=opts.AxisOpts(\n",
    "            name=\"Conversion_Rate\",\n",
    "            type_=\"value\",\n",
    "            min_=0,\n",
    "           # max_=1.00,\n",
    "            position=\"right\",\n",
    "            axisline_opts=opts.AxisLineOpts(\n",
    "                linestyle_opts=opts.LineStyleOpts(color=\"#d14a61\")\n",
    "            ),\n",
    "            axislabel_opts=opts.LabelOpts(formatter=\"{value}\"),\n",
    "        )\n",
    "    )\n",
    ")\n",
    "\n",
    "c = (\n",
    "    Line()\n",
    "    .add_xaxis(x)\n",
    "    .add_yaxis(\"Conversion_Rate\", v,yaxis_index=1,label_opts=opts.LabelOpts(is_show=False),\n",
    "               markpoint_opts=opts.MarkPointOpts(\n",
    "                   data=[opts.MarkPointItem(name=\"remark\",\n",
    "                       coord=[x[1], y[1]], value=(y[1]\n",
    "                                                 )\n",
    "                   )]\n",
    "               ),\n",
    "              )\n",
    "\n",
    "    .set_global_opts(title_opts=opts.TitleOpts(title=\"\"),)\n",
    ")\n",
    "   \n",
    "\n",
    "\n",
    "bar.overlap(c)\n",
    "grid = (\n",
    "        Grid()\n",
    "        .add(bar, opts.GridOpts(pos_left=\"5%\", pos_right=\"20%\"), is_control_axis_index=True)\n",
    "        \n",
    "    )\n",
    "\n",
    "\n",
    "grid.render(\"channel_provider_first_affiliate_tracked.html\")"
   ]
  },
  {
   "cell_type": "markdown",
   "metadata": {},
   "source": [
    "## Conversion"
   ]
  },
  {
   "cell_type": "code",
   "execution_count": 46,
   "metadata": {},
   "outputs": [
    {
     "data": {
      "text/html": [
       "<div>\n",
       "<style scoped>\n",
       "    .dataframe tbody tr th:only-of-type {\n",
       "        vertical-align: middle;\n",
       "    }\n",
       "\n",
       "    .dataframe tbody tr th {\n",
       "        vertical-align: top;\n",
       "    }\n",
       "\n",
       "    .dataframe thead th {\n",
       "        text-align: right;\n",
       "    }\n",
       "</style>\n",
       "<table border=\"1\" class=\"dataframe\">\n",
       "  <thead>\n",
       "    <tr style=\"text-align: right;\">\n",
       "      <th></th>\n",
       "      <th>user_id</th>\n",
       "      <th>action</th>\n",
       "      <th>action_type</th>\n",
       "      <th>action_detail</th>\n",
       "      <th>device_type</th>\n",
       "      <th>secs_elapsed</th>\n",
       "    </tr>\n",
       "  </thead>\n",
       "  <tbody>\n",
       "    <tr>\n",
       "      <td>0</td>\n",
       "      <td>d1mm9tcy42</td>\n",
       "      <td>lookup</td>\n",
       "      <td>NaN</td>\n",
       "      <td>NaN</td>\n",
       "      <td>Windows Desktop</td>\n",
       "      <td>319.0</td>\n",
       "    </tr>\n",
       "    <tr>\n",
       "      <td>1</td>\n",
       "      <td>d1mm9tcy42</td>\n",
       "      <td>search_results</td>\n",
       "      <td>click</td>\n",
       "      <td>view_search_results</td>\n",
       "      <td>Windows Desktop</td>\n",
       "      <td>67753.0</td>\n",
       "    </tr>\n",
       "    <tr>\n",
       "      <td>2</td>\n",
       "      <td>d1mm9tcy42</td>\n",
       "      <td>lookup</td>\n",
       "      <td>NaN</td>\n",
       "      <td>NaN</td>\n",
       "      <td>Windows Desktop</td>\n",
       "      <td>301.0</td>\n",
       "    </tr>\n",
       "    <tr>\n",
       "      <td>3</td>\n",
       "      <td>d1mm9tcy42</td>\n",
       "      <td>search_results</td>\n",
       "      <td>click</td>\n",
       "      <td>view_search_results</td>\n",
       "      <td>Windows Desktop</td>\n",
       "      <td>22141.0</td>\n",
       "    </tr>\n",
       "    <tr>\n",
       "      <td>4</td>\n",
       "      <td>d1mm9tcy42</td>\n",
       "      <td>lookup</td>\n",
       "      <td>NaN</td>\n",
       "      <td>NaN</td>\n",
       "      <td>Windows Desktop</td>\n",
       "      <td>435.0</td>\n",
       "    </tr>\n",
       "  </tbody>\n",
       "</table>\n",
       "</div>"
      ],
      "text/plain": [
       "      user_id          action action_type        action_detail  \\\n",
       "0  d1mm9tcy42          lookup         NaN                  NaN   \n",
       "1  d1mm9tcy42  search_results       click  view_search_results   \n",
       "2  d1mm9tcy42          lookup         NaN                  NaN   \n",
       "3  d1mm9tcy42  search_results       click  view_search_results   \n",
       "4  d1mm9tcy42          lookup         NaN                  NaN   \n",
       "\n",
       "       device_type  secs_elapsed  \n",
       "0  Windows Desktop         319.0  \n",
       "1  Windows Desktop       67753.0  \n",
       "2  Windows Desktop         301.0  \n",
       "3  Windows Desktop       22141.0  \n",
       "4  Windows Desktop         435.0  "
      ]
     },
     "execution_count": 46,
     "metadata": {},
     "output_type": "execute_result"
    }
   ],
   "source": [
    "sessions.head()"
   ]
  },
  {
   "cell_type": "markdown",
   "metadata": {},
   "source": [
    "## sum users"
   ]
  },
  {
   "cell_type": "code",
   "execution_count": 47,
   "metadata": {},
   "outputs": [
    {
     "data": {
      "text/plain": [
       "(135483,)"
      ]
     },
     "execution_count": 47,
     "metadata": {},
     "output_type": "execute_result"
    }
   ],
   "source": [
    "users_sum = sessions.groupby([\"user_id\"])[\"user_id\"].count()\n",
    "users_sum.shape"
   ]
  },
  {
   "cell_type": "code",
   "execution_count": 48,
   "metadata": {},
   "outputs": [
    {
     "data": {
      "text/plain": [
       "user_id\n",
       "e8d3p4movg       1\n",
       "9h0mpmt605       1\n",
       "1h68rlw2hl       1\n",
       "ocp4zuz0t9       1\n",
       "8wuozrt3ow       1\n",
       "              ... \n",
       "wg9413iaux    2362\n",
       "l5lgm3w5pc    2424\n",
       "mjbl6rrj52    2476\n",
       "0hjoc5q8nf    2644\n",
       "mxqbh3ykxl    2722\n",
       "Name: user_id, Length: 135483, dtype: int64"
      ]
     },
     "execution_count": 48,
     "metadata": {},
     "output_type": "execute_result"
    }
   ],
   "source": [
    "#Active Users：if users use the product more than 10 times, then he/she is active users\n",
    "user_action_count = sessions.groupby([\"user_id\"])[\"user_id\"].count()\n",
    "user_action_count.sort_values()"
   ]
  },
  {
   "cell_type": "markdown",
   "metadata": {},
   "source": [
    "## active users"
   ]
  },
  {
   "cell_type": "code",
   "execution_count": 49,
   "metadata": {},
   "outputs": [
    {
     "data": {
      "text/plain": [
       "(114001,)"
      ]
     },
     "execution_count": 49,
     "metadata": {},
     "output_type": "execute_result"
    }
   ],
   "source": [
    "user_active = user_action_count[user_action_count>=10]\n",
    "user_active.shape"
   ]
  },
  {
   "cell_type": "code",
   "execution_count": 50,
   "metadata": {},
   "outputs": [
    {
     "data": {
      "text/plain": [
       "(275547, 17)"
      ]
     },
     "execution_count": 50,
     "metadata": {},
     "output_type": "execute_result"
    }
   ],
   "source": [
    "all_users.shape"
   ]
  },
  {
   "cell_type": "code",
   "execution_count": 51,
   "metadata": {},
   "outputs": [
    {
     "data": {
      "text/plain": [
       "(10567737, 6)"
      ]
     },
     "execution_count": 51,
     "metadata": {},
     "output_type": "execute_result"
    }
   ],
   "source": [
    "sessions.shape"
   ]
  },
  {
   "cell_type": "code",
   "execution_count": 52,
   "metadata": {},
   "outputs": [],
   "source": [
    "pd_all = pd.merge(sessions,all_users,left_on=\"user_id\",right_on=\"id\")"
   ]
  },
  {
   "cell_type": "code",
   "execution_count": 53,
   "metadata": {},
   "outputs": [
    {
     "data": {
      "text/plain": [
       "(10533241, 23)"
      ]
     },
     "execution_count": 53,
     "metadata": {},
     "output_type": "execute_result"
    }
   ],
   "source": [
    "pd_all.shape"
   ]
  },
  {
   "cell_type": "markdown",
   "metadata": {},
   "source": [
    "## sign up users count"
   ]
  },
  {
   "cell_type": "code",
   "execution_count": 54,
   "metadata": {},
   "outputs": [
    {
     "data": {
      "text/plain": [
       "(135483,)"
      ]
     },
     "execution_count": 54,
     "metadata": {},
     "output_type": "execute_result"
    }
   ],
   "source": [
    "pd_all.groupby([\"user_id\"])[\"user_id\"].count().shape"
   ]
  },
  {
   "cell_type": "code",
   "execution_count": 55,
   "metadata": {},
   "outputs": [
    {
     "data": {
      "text/html": [
       "<div>\n",
       "<style scoped>\n",
       "    .dataframe tbody tr th:only-of-type {\n",
       "        vertical-align: middle;\n",
       "    }\n",
       "\n",
       "    .dataframe tbody tr th {\n",
       "        vertical-align: top;\n",
       "    }\n",
       "\n",
       "    .dataframe thead th {\n",
       "        text-align: right;\n",
       "    }\n",
       "</style>\n",
       "<table border=\"1\" class=\"dataframe\">\n",
       "  <thead>\n",
       "    <tr style=\"text-align: right;\">\n",
       "      <th></th>\n",
       "      <th>user_id</th>\n",
       "      <th>action</th>\n",
       "      <th>action_type</th>\n",
       "      <th>action_detail</th>\n",
       "      <th>device_type</th>\n",
       "      <th>secs_elapsed</th>\n",
       "    </tr>\n",
       "  </thead>\n",
       "  <tbody>\n",
       "    <tr>\n",
       "      <td>0</td>\n",
       "      <td>d1mm9tcy42</td>\n",
       "      <td>lookup</td>\n",
       "      <td>NaN</td>\n",
       "      <td>NaN</td>\n",
       "      <td>Windows Desktop</td>\n",
       "      <td>319.0</td>\n",
       "    </tr>\n",
       "    <tr>\n",
       "      <td>1</td>\n",
       "      <td>d1mm9tcy42</td>\n",
       "      <td>search_results</td>\n",
       "      <td>click</td>\n",
       "      <td>view_search_results</td>\n",
       "      <td>Windows Desktop</td>\n",
       "      <td>67753.0</td>\n",
       "    </tr>\n",
       "    <tr>\n",
       "      <td>2</td>\n",
       "      <td>d1mm9tcy42</td>\n",
       "      <td>lookup</td>\n",
       "      <td>NaN</td>\n",
       "      <td>NaN</td>\n",
       "      <td>Windows Desktop</td>\n",
       "      <td>301.0</td>\n",
       "    </tr>\n",
       "    <tr>\n",
       "      <td>3</td>\n",
       "      <td>d1mm9tcy42</td>\n",
       "      <td>search_results</td>\n",
       "      <td>click</td>\n",
       "      <td>view_search_results</td>\n",
       "      <td>Windows Desktop</td>\n",
       "      <td>22141.0</td>\n",
       "    </tr>\n",
       "    <tr>\n",
       "      <td>4</td>\n",
       "      <td>d1mm9tcy42</td>\n",
       "      <td>lookup</td>\n",
       "      <td>NaN</td>\n",
       "      <td>NaN</td>\n",
       "      <td>Windows Desktop</td>\n",
       "      <td>435.0</td>\n",
       "    </tr>\n",
       "  </tbody>\n",
       "</table>\n",
       "</div>"
      ],
      "text/plain": [
       "      user_id          action action_type        action_detail  \\\n",
       "0  d1mm9tcy42          lookup         NaN                  NaN   \n",
       "1  d1mm9tcy42  search_results       click  view_search_results   \n",
       "2  d1mm9tcy42          lookup         NaN                  NaN   \n",
       "3  d1mm9tcy42  search_results       click  view_search_results   \n",
       "4  d1mm9tcy42          lookup         NaN                  NaN   \n",
       "\n",
       "       device_type  secs_elapsed  \n",
       "0  Windows Desktop         319.0  \n",
       "1  Windows Desktop       67753.0  \n",
       "2  Windows Desktop         301.0  \n",
       "3  Windows Desktop       22141.0  \n",
       "4  Windows Desktop         435.0  "
      ]
     },
     "execution_count": 55,
     "metadata": {},
     "output_type": "execute_result"
    }
   ],
   "source": [
    "sessions.head()"
   ]
  },
  {
   "cell_type": "markdown",
   "metadata": {},
   "source": [
    "## reservations "
   ]
  },
  {
   "cell_type": "code",
   "execution_count": 56,
   "metadata": {},
   "outputs": [
    {
     "data": {
      "text/plain": [
       "(10366,)"
      ]
     },
     "execution_count": 56,
     "metadata": {},
     "output_type": "execute_result"
    }
   ],
   "source": [
    "reser = sessions.loc[sessions[\"action_detail\"]==\"reservations\"]\n",
    "reser.groupby(\"user_id\")[\"user_id\"].count().shape"
   ]
  },
  {
   "cell_type": "markdown",
   "metadata": {},
   "source": [
    "## payment_instruments"
   ]
  },
  {
   "cell_type": "code",
   "execution_count": 57,
   "metadata": {},
   "outputs": [
    {
     "data": {
      "text/plain": [
       "(9018,)"
      ]
     },
     "execution_count": 57,
     "metadata": {},
     "output_type": "execute_result"
    }
   ],
   "source": [
    "payment = sessions.loc[sessions[\"action_detail\"]==\"payment_instruments\"]\n",
    "payment.groupby(\"user_id\")[\"user_id\"].count().shape"
   ]
  },
  {
   "cell_type": "markdown",
   "metadata": {},
   "source": [
    "## repurchase: payment_instruments > 1"
   ]
  },
  {
   "cell_type": "code",
   "execution_count": 58,
   "metadata": {},
   "outputs": [
    {
     "data": {
      "text/html": [
       "<div>\n",
       "<style scoped>\n",
       "    .dataframe tbody tr th:only-of-type {\n",
       "        vertical-align: middle;\n",
       "    }\n",
       "\n",
       "    .dataframe tbody tr th {\n",
       "        vertical-align: top;\n",
       "    }\n",
       "\n",
       "    .dataframe thead th {\n",
       "        text-align: right;\n",
       "    }\n",
       "</style>\n",
       "<table border=\"1\" class=\"dataframe\">\n",
       "  <thead>\n",
       "    <tr style=\"text-align: right;\">\n",
       "      <th></th>\n",
       "      <th>user_id</th>\n",
       "      <th>action</th>\n",
       "      <th>action_type</th>\n",
       "      <th>action_detail</th>\n",
       "      <th>device_type</th>\n",
       "      <th>secs_elapsed</th>\n",
       "    </tr>\n",
       "  </thead>\n",
       "  <tbody>\n",
       "    <tr>\n",
       "      <td>114525</td>\n",
       "      <td>q83d1akfql</td>\n",
       "      <td>payment_instruments</td>\n",
       "      <td>data</td>\n",
       "      <td>payment_instruments</td>\n",
       "      <td>iPad Tablet</td>\n",
       "      <td>1.0</td>\n",
       "    </tr>\n",
       "    <tr>\n",
       "      <td>116971</td>\n",
       "      <td>xzulq9d96w</td>\n",
       "      <td>payment_instruments</td>\n",
       "      <td>data</td>\n",
       "      <td>payment_instruments</td>\n",
       "      <td>iPhone</td>\n",
       "      <td>8.0</td>\n",
       "    </tr>\n",
       "    <tr>\n",
       "      <td>116975</td>\n",
       "      <td>xzulq9d96w</td>\n",
       "      <td>payment_instruments</td>\n",
       "      <td>data</td>\n",
       "      <td>payment_instruments</td>\n",
       "      <td>iPhone</td>\n",
       "      <td>6788.0</td>\n",
       "    </tr>\n",
       "    <tr>\n",
       "      <td>124828</td>\n",
       "      <td>37p6yvgtst</td>\n",
       "      <td>payment_instruments</td>\n",
       "      <td>data</td>\n",
       "      <td>payment_instruments</td>\n",
       "      <td>-unknown-</td>\n",
       "      <td>93652.0</td>\n",
       "    </tr>\n",
       "    <tr>\n",
       "      <td>127030</td>\n",
       "      <td>tr5j6nmvs9</td>\n",
       "      <td>payment_instruments</td>\n",
       "      <td>data</td>\n",
       "      <td>payment_instruments</td>\n",
       "      <td>iPhone</td>\n",
       "      <td>61.0</td>\n",
       "    </tr>\n",
       "    <tr>\n",
       "      <td>...</td>\n",
       "      <td>...</td>\n",
       "      <td>...</td>\n",
       "      <td>...</td>\n",
       "      <td>...</td>\n",
       "      <td>...</td>\n",
       "      <td>...</td>\n",
       "    </tr>\n",
       "    <tr>\n",
       "      <td>10566586</td>\n",
       "      <td>ozb2z0km6l</td>\n",
       "      <td>payment_instruments</td>\n",
       "      <td>data</td>\n",
       "      <td>payment_instruments</td>\n",
       "      <td>Android Phone</td>\n",
       "      <td>4202.0</td>\n",
       "    </tr>\n",
       "    <tr>\n",
       "      <td>10566604</td>\n",
       "      <td>ozb2z0km6l</td>\n",
       "      <td>payment_instruments</td>\n",
       "      <td>data</td>\n",
       "      <td>payment_instruments</td>\n",
       "      <td>Android Phone</td>\n",
       "      <td>4808.0</td>\n",
       "    </tr>\n",
       "    <tr>\n",
       "      <td>10567082</td>\n",
       "      <td>f9a1ncjnrg</td>\n",
       "      <td>payment_instruments</td>\n",
       "      <td>data</td>\n",
       "      <td>payment_instruments</td>\n",
       "      <td>Android Phone</td>\n",
       "      <td>40978.0</td>\n",
       "    </tr>\n",
       "    <tr>\n",
       "      <td>10567098</td>\n",
       "      <td>f9a1ncjnrg</td>\n",
       "      <td>payment_instruments</td>\n",
       "      <td>data</td>\n",
       "      <td>payment_instruments</td>\n",
       "      <td>Android Phone</td>\n",
       "      <td>11270.0</td>\n",
       "    </tr>\n",
       "    <tr>\n",
       "      <td>10567106</td>\n",
       "      <td>f9a1ncjnrg</td>\n",
       "      <td>payment_instruments</td>\n",
       "      <td>data</td>\n",
       "      <td>payment_instruments</td>\n",
       "      <td>Android Phone</td>\n",
       "      <td>1994.0</td>\n",
       "    </tr>\n",
       "  </tbody>\n",
       "</table>\n",
       "<p>23483 rows × 6 columns</p>\n",
       "</div>"
      ],
      "text/plain": [
       "             user_id               action action_type        action_detail  \\\n",
       "114525    q83d1akfql  payment_instruments        data  payment_instruments   \n",
       "116971    xzulq9d96w  payment_instruments        data  payment_instruments   \n",
       "116975    xzulq9d96w  payment_instruments        data  payment_instruments   \n",
       "124828    37p6yvgtst  payment_instruments        data  payment_instruments   \n",
       "127030    tr5j6nmvs9  payment_instruments        data  payment_instruments   \n",
       "...              ...                  ...         ...                  ...   \n",
       "10566586  ozb2z0km6l  payment_instruments        data  payment_instruments   \n",
       "10566604  ozb2z0km6l  payment_instruments        data  payment_instruments   \n",
       "10567082  f9a1ncjnrg  payment_instruments        data  payment_instruments   \n",
       "10567098  f9a1ncjnrg  payment_instruments        data  payment_instruments   \n",
       "10567106  f9a1ncjnrg  payment_instruments        data  payment_instruments   \n",
       "\n",
       "            device_type  secs_elapsed  \n",
       "114525      iPad Tablet           1.0  \n",
       "116971           iPhone           8.0  \n",
       "116975           iPhone        6788.0  \n",
       "124828        -unknown-       93652.0  \n",
       "127030           iPhone          61.0  \n",
       "...                 ...           ...  \n",
       "10566586  Android Phone        4202.0  \n",
       "10566604  Android Phone        4808.0  \n",
       "10567082  Android Phone       40978.0  \n",
       "10567098  Android Phone       11270.0  \n",
       "10567106  Android Phone        1994.0  \n",
       "\n",
       "[23483 rows x 6 columns]"
      ]
     },
     "execution_count": 58,
     "metadata": {},
     "output_type": "execute_result"
    }
   ],
   "source": [
    "repay = sessions.loc[sessions[\"action_detail\"]==\"payment_instruments\"]\n",
    "repay"
   ]
  },
  {
   "cell_type": "code",
   "execution_count": 59,
   "metadata": {},
   "outputs": [
    {
     "data": {
      "text/plain": [
       "user_id\n",
       "002qnbzfs5    12\n",
       "01exzqnc72     8\n",
       "01kv2ppj25     3\n",
       "01w5zolph1     3\n",
       "02g0fo4l82     3\n",
       "              ..\n",
       "zxpkkcycpj     4\n",
       "zxx6dj4qly     3\n",
       "zy4osm5l0s     5\n",
       "zyef5tbx82     5\n",
       "zyqu19zv62     4\n",
       "Name: user_id, Length: 4153, dtype: int64"
      ]
     },
     "execution_count": 59,
     "metadata": {},
     "output_type": "execute_result"
    }
   ],
   "source": [
    "repay_count = repay.groupby(\"user_id\")[\"user_id\"].count()\n",
    "repay_count[repay_count>=2]"
   ]
  },
  {
   "cell_type": "code",
   "execution_count": 60,
   "metadata": {},
   "outputs": [
    {
     "data": {
      "text/plain": [
       "'C:\\\\Users\\\\dell\\\\Desktop\\\\airbnb\\\\data\\\\AARRR metrics funnel diagram.html'"
      ]
     },
     "execution_count": 60,
     "metadata": {},
     "output_type": "execute_result"
    }
   ],
   "source": [
    "from pyecharts import options as opts\n",
    "from pyecharts.charts import Funnel, Page\n",
    "y = [135483,114001,73815,10366,9018, 4153]\n",
    "r = [100,84.1, 64.7,14.0, 86.7, 46.1]\n",
    "x = [\"total_number_of_users\",\"active_users\",\"sign_up_users\" ,\"reservations_users\",\"pay_users\",\"repay_users\"]\n",
    "c = (\n",
    "    Funnel()\n",
    "    .add(\n",
    "        \"Conversion_rate\",\n",
    "        [list(z) for z in zip(x,y)],\n",
    "       # label_opts=opts.LabelOpts(position=\"inside\"),\n",
    "    )\n",
    "    .set_global_opts(title_opts=opts.TitleOpts(title=\"\"))\n",
    "    .set_series_opts(label_opts=opts.LabelOpts(formatter=\"{b}：{c}\",position=\"inside\",))\n",
    ")\n",
    "c.render(\"AARRR metrics funnel diagram.html\")"
   ]
  },
  {
   "cell_type": "code",
   "execution_count": null,
   "metadata": {},
   "outputs": [],
   "source": []
  }
 ],
 "metadata": {
  "kernelspec": {
   "display_name": "Python 3",
   "language": "python",
   "name": "python3"
  },
  "language_info": {
   "codemirror_mode": {
    "name": "ipython",
    "version": 3
   },
   "file_extension": ".py",
   "mimetype": "text/x-python",
   "name": "python",
   "nbconvert_exporter": "python",
   "pygments_lexer": "ipython3",
   "version": "3.7.4"
  }
 },
 "nbformat": 4,
 "nbformat_minor": 2
}
